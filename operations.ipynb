{
  "cells": [
    {
      "cell_type": "markdown",
      "metadata": {
        "id": "view-in-github",
        "colab_type": "text"
      },
      "source": [
        "<a href=\"https://colab.research.google.com/github/gowthamena/gowthamen2783/blob/main/operations.ipynb\" target=\"_parent\"><img src=\"https://colab.research.google.com/assets/colab-badge.svg\" alt=\"Open In Colab\"/></a>"
      ]
    },
    {
      "cell_type": "code",
      "source": [
        "public class Operations {\n",
        "   public static void main (String[] args) throws Exception {\n",
        "        \n",
        "        int x = 20;\n",
        "        int y = 4;\n",
        "        \n",
        "        String operation = \"add\";\n",
        "        System.out.println(execute(operation, x, y));\n",
        "        \n",
        "        operation = \"subs\";\n",
        "        System.out.println(execute(operation, x, y));\n",
        "        \n",
        "        operation = \"multiplication\";\n",
        "        System.out.println(execute(operation, x, y));\n",
        "        \n",
        "        operation = \"division\";\n",
        "        System.out.println(execute(operation, x, y));\n",
        "    }\n",
        "    \n",
        "    public static int execute (String operation, int x , int y) {\n",
        "        if(\"add\".equals(operation)) {\n",
        "            return x + y;\n",
        "        } else if(\"subs\".equals(operation)) {\n",
        "            return x - y;\n",
        "        } else if(\"multiplication\".equals(operation)) {\n",
        "            return x * y;\n",
        "        } else if(\"division\".equals(operation)) {\n",
        "            return x / y;\n",
        "        }\n",
        "        return 0;\n",
        "    }\n",
        "\n",
        "}"
      ],
      "metadata": {
        "id": "2BmXJW-C_URr"
      },
      "execution_count": null,
      "outputs": []
    }
  ],
  "metadata": {
    "colab": {
      "name": "Welcome To Colaboratory",
      "provenance": [],
      "include_colab_link": true
    },
    "kernelspec": {
      "display_name": "Python 3",
      "name": "python3"
    }
  },
  "nbformat": 4,
  "nbformat_minor": 0
}