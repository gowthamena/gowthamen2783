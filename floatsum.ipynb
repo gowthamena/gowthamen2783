{
  "cells": [
    {
      "cell_type": "markdown",
      "metadata": {
        "id": "view-in-github",
        "colab_type": "text"
      },
      "source": [
        "<a href=\"https://colab.research.google.com/github/gowthamena/gowthamen2783/blob/main/floatsum.ipynb\" target=\"_parent\"><img src=\"https://colab.research.google.com/assets/colab-badge.svg\" alt=\"Open In Colab\"/></a>"
      ]
    },
    {
      "cell_type": "markdown",
      "source": [
        "public class Main\n",
        "{\n",
        "\tpublic static void main(String[] args) {\n",
        "\t   float x = (float)8.6;\n",
        "        float y = (float)9.7;\n",
        "        float float_sum = x + y;\n",
        "        System.out.println(\"sum of two floating numbers: \" + float_sum); \n",
        "\t   \n",
        "\t}\n",
        "}"
      ],
      "metadata": {
        "id": "l-6HRrgC4rHO"
      }
    }
  ],
  "metadata": {
    "colab": {
      "name": "Welcome To Colaboratory",
      "provenance": [],
      "include_colab_link": true
    },
    "kernelspec": {
      "display_name": "Python 3",
      "name": "python3"
    }
  },
  "nbformat": 4,
  "nbformat_minor": 0
}