{
  "cells": [
    {
      "cell_type": "markdown",
      "metadata": {
        "id": "view-in-github",
        "colab_type": "text"
      },
      "source": [
        "<a href=\"https://colab.research.google.com/github/gowthamena/gowthamen2783/blob/main/printstring.ipynb\" target=\"_parent\"><img src=\"https://colab.research.google.com/assets/colab-badge.svg\" alt=\"Open In Colab\"/></a>"
      ]
    },
    {
      "cell_type": "code",
      "source": [
        "public class Print_String {\n",
        "   public static void main (String[] args) throws Exception {\n",
        "        String str = \"ABCDE12345\";\n",
        "        String subStr = str.substring(5);\n",
        "        System.out.println(subStr);\n",
        "    }\n",
        "\n",
        "}"
      ],
      "metadata": {
        "id": "zLI9ZJkhJEuv"
      },
      "execution_count": null,
      "outputs": []
    }
  ],
  "metadata": {
    "colab": {
      "name": "Welcome To Colaboratory",
      "provenance": [],
      "include_colab_link": true
    },
    "kernelspec": {
      "display_name": "Python 3",
      "name": "python3"
    }
  },
  "nbformat": 4,
  "nbformat_minor": 0
}