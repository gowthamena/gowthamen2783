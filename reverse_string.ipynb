{
  "cells": [
    {
      "cell_type": "markdown",
      "metadata": {
        "id": "view-in-github",
        "colab_type": "text"
      },
      "source": [
        "<a href=\"https://colab.research.google.com/github/gowthamena/gowthamen2783/blob/main/reverse_string.ipynb\" target=\"_parent\"><img src=\"https://colab.research.google.com/assets/colab-badge.svg\" alt=\"Open In Colab\"/></a>"
      ]
    },
    {
      "cell_type": "code",
      "source": [
        "public class Reverse_String {\n",
        "    public static void main (String[] args) {\n",
        "       \n",
        "        String word= \"Welcome To Java\", nullstring=\"\";\n",
        "        char character;\n",
        "      for (int i=0; i<word.length(); i++)\n",
        "      {\n",
        "        character = word.charAt(i);\n",
        "        nullstring= character+nullstring;\n",
        "      }\n",
        "      System.out.println(\"Reversed word: \"+ nullstring);\n",
        "    }\n",
        "}"
      ],
      "metadata": {
        "id": "B729LhqXr3sT"
      },
      "execution_count": null,
      "outputs": []
    }
  ],
  "metadata": {
    "colab": {
      "name": "Welcome To Colaboratory",
      "provenance": [],
      "include_colab_link": true
    },
    "kernelspec": {
      "display_name": "Python 3",
      "name": "python3"
    }
  },
  "nbformat": 4,
  "nbformat_minor": 0
}