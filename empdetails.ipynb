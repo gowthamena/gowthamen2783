{
  "cells": [
    {
      "cell_type": "markdown",
      "metadata": {
        "id": "view-in-github",
        "colab_type": "text"
      },
      "source": [
        "<a href=\"https://colab.research.google.com/github/gowthamena/gowthamen2783/blob/main/empdetails.ipynb\" target=\"_parent\"><img src=\"https://colab.research.google.com/assets/colab-badge.svg\" alt=\"Open In Colab\"/></a>"
      ]
    },
    {
      "cell_type": "code",
      "source": [
        "public class EmpDetails {\n",
        "   public static void main (String[] args) throws Exception {\n",
        "       String name = \"Jadeja\";\n",
        "       \n",
        "        for (int i=1; i <=100; i++) \n",
        "        {\n",
        "            \n",
        "        System.out.println(\"EmpName:\"+name+\" \"+\"EmpId:\"+name+i);\n",
        "        }\n",
        "       \n",
        "    }\n",
        "}"
      ],
      "metadata": {
        "id": "Nmt0L27bmJ2V"
      },
      "execution_count": null,
      "outputs": []
    }
  ],
  "metadata": {
    "colab": {
      "name": "Welcome To Colaboratory",
      "provenance": [],
      "include_colab_link": true
    },
    "kernelspec": {
      "display_name": "Python 3",
      "name": "python3"
    }
  },
  "nbformat": 4,
  "nbformat_minor": 0
}