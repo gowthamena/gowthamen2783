{
  "cells": [
    {
      "cell_type": "markdown",
      "metadata": {
        "id": "view-in-github",
        "colab_type": "text"
      },
      "source": [
        "<a href=\"https://colab.research.google.com/github/gowthamena/gowthamen2783/blob/main/return.ipynb\" target=\"_parent\"><img src=\"https://colab.research.google.com/assets/colab-badge.svg\" alt=\"Open In Colab\"/></a>"
      ]
    },
    {
      "cell_type": "code",
      "source": [
        "public int returnNumber(){\n",
        "    int c = 0;\n",
        "    float a = 7.8f;\n",
        "    float b = 4.4f;\n",
        "    // c=a+b;\n",
        "    return c;\n",
        "  }\n",
        "\n",
        "//returnNumber() method will return '0' since c=a+b is commented "
      ],
      "metadata": {
        "id": "oEFU9cA3Hzt9"
      },
      "execution_count": null,
      "outputs": []
    }
  ],
  "metadata": {
    "colab": {
      "name": "Welcome To Colaboratory",
      "provenance": [],
      "include_colab_link": true
    },
    "kernelspec": {
      "display_name": "Python 3",
      "name": "python3"
    }
  },
  "nbformat": 4,
  "nbformat_minor": 0
}